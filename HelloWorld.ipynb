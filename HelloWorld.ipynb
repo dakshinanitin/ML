{
  "nbformat": 4,
  "nbformat_minor": 0,
  "metadata": {
    "colab": {
      "name": "HelloWorld.ipynb",
      "provenance": [],
      "authorship_tag": "ABX9TyOQO5aWK29qqL7AZ6PINAnJ",
      "include_colab_link": true
    },
    "kernelspec": {
      "name": "python3",
      "display_name": "Python 3"
    }
  },
  "cells": [
    {
      "cell_type": "markdown",
      "metadata": {
        "id": "view-in-github",
        "colab_type": "text"
      },
      "source": [
        "<a href=\"https://colab.research.google.com/github/dakshinanitin/ML/blob/master/HelloWorld.ipynb\" target=\"_parent\"><img src=\"https://colab.research.google.com/assets/colab-badge.svg\" alt=\"Open In Colab\"/></a>"
      ]
    },
    {
      "cell_type": "markdown",
      "metadata": {
        "id": "G8KH8mAYW9ly"
      },
      "source": [
        "My First Collab\n",
        "\n",
        "Here we demonstrate\n",
        "1.   How to print using Python print statement\n",
        "2.   Perform basic Mathematical operations\n",
        "\n"
      ]
    },
    {
      "cell_type": "code",
      "metadata": {
        "id": "GkehConYUVXy",
        "outputId": "5f302c82-e411-4f18-848f-38da3d450386",
        "colab": {
          "base_uri": "https://localhost:8080/",
          "height": 34
        }
      },
      "source": [
        "print(\"Hello World\")"
      ],
      "execution_count": 1,
      "outputs": [
        {
          "output_type": "stream",
          "text": [
            "Hello World\n"
          ],
          "name": "stdout"
        }
      ]
    },
    {
      "cell_type": "markdown",
      "metadata": {
        "id": "KdONdWzGX8Ju"
      },
      "source": [
        "Addition of 2 numbers"
      ]
    },
    {
      "cell_type": "code",
      "metadata": {
        "id": "JAjVxaD8YE30",
        "outputId": "2f83b936-2245-4e75-8e2a-7e8f1a3893a3",
        "colab": {
          "base_uri": "https://localhost:8080/",
          "height": 34
        }
      },
      "source": [
        "x = 7\n",
        "y = 8\n",
        "z = x + y\n",
        "print(z)"
      ],
      "execution_count": 2,
      "outputs": [
        {
          "output_type": "stream",
          "text": [
            "15\n"
          ],
          "name": "stdout"
        }
      ]
    }
  ]
}